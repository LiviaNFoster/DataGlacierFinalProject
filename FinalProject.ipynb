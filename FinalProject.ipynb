{
 "cells": [
  {
   "cell_type": "code",
   "execution_count": 1,
   "id": "0f19a693",
   "metadata": {},
   "outputs": [],
   "source": [
    "## Section for importing packages\n",
    "import pandas as pd"
   ]
  },
  {
   "cell_type": "code",
   "execution_count": 2,
   "id": "b987f352",
   "metadata": {},
   "outputs": [],
   "source": [
    "#upload CSV file of dataset\n",
    "df = pd.read_csv('/Users/Olivia/Desktop/FinalProject/Healthcare_dataset.csv')"
   ]
  },
  {
   "cell_type": "code",
   "execution_count": 3,
   "id": "bea8e710",
   "metadata": {},
   "outputs": [
    {
     "name": "stdout",
     "output_type": "stream",
     "text": [
      "Number of rows:  3424\n",
      "Number of columns:  69\n"
     ]
    }
   ],
   "source": [
    "#Taking count of rows and columns\n",
    "row_num = len(df.index) #number of rows\n",
    "print(\"Number of rows: \", row_num)\n",
    "col_num = len(df.columns) #number of columns\n",
    "print(\"Number of columns: \", col_num)"
   ]
  },
  {
   "cell_type": "code",
   "execution_count": 4,
   "id": "d0f51be0",
   "metadata": {},
   "outputs": [
    {
     "name": "stdout",
     "output_type": "stream",
     "text": [
      "<class 'pandas.core.frame.DataFrame'>\n",
      "RangeIndex: 3424 entries, 0 to 3423\n",
      "Data columns (total 69 columns):\n",
      " #   Column                                                              Non-Null Count  Dtype \n",
      "---  ------                                                              --------------  ----- \n",
      " 0   Ptid                                                                3424 non-null   object\n",
      " 1   Persistency_Flag                                                    3424 non-null   object\n",
      " 2   Gender                                                              3424 non-null   object\n",
      " 3   Race                                                                3424 non-null   object\n",
      " 4   Ethnicity                                                           3424 non-null   object\n",
      " 5   Region                                                              3424 non-null   object\n",
      " 6   Age_Bucket                                                          3424 non-null   object\n",
      " 7   Ntm_Speciality                                                      3424 non-null   object\n",
      " 8   Ntm_Specialist_Flag                                                 3424 non-null   object\n",
      " 9   Ntm_Speciality_Bucket                                               3424 non-null   object\n",
      " 10  Gluco_Record_Prior_Ntm                                              3424 non-null   object\n",
      " 11  Gluco_Record_During_Rx                                              3424 non-null   object\n",
      " 12  Dexa_Freq_During_Rx                                                 3424 non-null   int64 \n",
      " 13  Dexa_During_Rx                                                      3424 non-null   object\n",
      " 14  Frag_Frac_Prior_Ntm                                                 3424 non-null   object\n",
      " 15  Frag_Frac_During_Rx                                                 3424 non-null   object\n",
      " 16  Risk_Segment_Prior_Ntm                                              3424 non-null   object\n",
      " 17  Tscore_Bucket_Prior_Ntm                                             3424 non-null   object\n",
      " 18  Risk_Segment_During_Rx                                              3424 non-null   object\n",
      " 19  Tscore_Bucket_During_Rx                                             3424 non-null   object\n",
      " 20  Change_T_Score                                                      3424 non-null   object\n",
      " 21  Change_Risk_Segment                                                 3424 non-null   object\n",
      " 22  Adherent_Flag                                                       3424 non-null   object\n",
      " 23  Idn_Indicator                                                       3424 non-null   object\n",
      " 24  Injectable_Experience_During_Rx                                     3424 non-null   object\n",
      " 25  Comorb_Encounter_For_Screening_For_Malignant_Neoplasms              3424 non-null   object\n",
      " 26  Comorb_Encounter_For_Immunization                                   3424 non-null   object\n",
      " 27  Comorb_Encntr_For_General_Exam_W_O_Complaint,_Susp_Or_Reprtd_Dx     3424 non-null   object\n",
      " 28  Comorb_Vitamin_D_Deficiency                                         3424 non-null   object\n",
      " 29  Comorb_Other_Joint_Disorder_Not_Elsewhere_Classified                3424 non-null   object\n",
      " 30  Comorb_Encntr_For_Oth_Sp_Exam_W_O_Complaint_Suspected_Or_Reprtd_Dx  3424 non-null   object\n",
      " 31  Comorb_Long_Term_Current_Drug_Therapy                               3424 non-null   object\n",
      " 32  Comorb_Dorsalgia                                                    3424 non-null   object\n",
      " 33  Comorb_Personal_History_Of_Other_Diseases_And_Conditions            3424 non-null   object\n",
      " 34  Comorb_Other_Disorders_Of_Bone_Density_And_Structure                3424 non-null   object\n",
      " 35  Comorb_Disorders_of_lipoprotein_metabolism_and_other_lipidemias     3424 non-null   object\n",
      " 36  Comorb_Osteoporosis_without_current_pathological_fracture           3424 non-null   object\n",
      " 37  Comorb_Personal_history_of_malignant_neoplasm                       3424 non-null   object\n",
      " 38  Comorb_Gastro_esophageal_reflux_disease                             3424 non-null   object\n",
      " 39  Concom_Cholesterol_And_Triglyceride_Regulating_Preparations         3424 non-null   object\n",
      " 40  Concom_Narcotics                                                    3424 non-null   object\n",
      " 41  Concom_Systemic_Corticosteroids_Plain                               3424 non-null   object\n",
      " 42  Concom_Anti_Depressants_And_Mood_Stabilisers                        3424 non-null   object\n",
      " 43  Concom_Fluoroquinolones                                             3424 non-null   object\n",
      " 44  Concom_Cephalosporins                                               3424 non-null   object\n",
      " 45  Concom_Macrolides_And_Similar_Types                                 3424 non-null   object\n",
      " 46  Concom_Broad_Spectrum_Penicillins                                   3424 non-null   object\n",
      " 47  Concom_Anaesthetics_General                                         3424 non-null   object\n",
      " 48  Concom_Viral_Vaccines                                               3424 non-null   object\n",
      " 49  Risk_Type_1_Insulin_Dependent_Diabetes                              3424 non-null   object\n",
      " 50  Risk_Osteogenesis_Imperfecta                                        3424 non-null   object\n",
      " 51  Risk_Rheumatoid_Arthritis                                           3424 non-null   object\n",
      " 52  Risk_Untreated_Chronic_Hyperthyroidism                              3424 non-null   object\n",
      " 53  Risk_Untreated_Chronic_Hypogonadism                                 3424 non-null   object\n",
      " 54  Risk_Untreated_Early_Menopause                                      3424 non-null   object\n",
      " 55  Risk_Patient_Parent_Fractured_Their_Hip                             3424 non-null   object\n",
      " 56  Risk_Smoking_Tobacco                                                3424 non-null   object\n",
      " 57  Risk_Chronic_Malnutrition_Or_Malabsorption                          3424 non-null   object\n",
      " 58  Risk_Chronic_Liver_Disease                                          3424 non-null   object\n",
      " 59  Risk_Family_History_Of_Osteoporosis                                 3424 non-null   object\n",
      " 60  Risk_Low_Calcium_Intake                                             3424 non-null   object\n",
      " 61  Risk_Vitamin_D_Insufficiency                                        3424 non-null   object\n",
      " 62  Risk_Poor_Health_Frailty                                            3424 non-null   object\n",
      " 63  Risk_Excessive_Thinness                                             3424 non-null   object\n",
      " 64  Risk_Hysterectomy_Oophorectomy                                      3424 non-null   object\n",
      " 65  Risk_Estrogen_Deficiency                                            3424 non-null   object\n",
      " 66  Risk_Immobilization                                                 3424 non-null   object\n",
      " 67  Risk_Recurring_Falls                                                3424 non-null   object\n",
      " 68  Count_Of_Risks                                                      3424 non-null   int64 \n",
      "dtypes: int64(2), object(67)\n",
      "memory usage: 1.8+ MB\n"
     ]
    }
   ],
   "source": [
    "#information about the dataframe\n",
    "df.info()"
   ]
  },
  {
   "cell_type": "code",
   "execution_count": null,
   "id": "5f4ac740",
   "metadata": {},
   "outputs": [],
   "source": []
  },
  {
   "cell_type": "code",
   "execution_count": null,
   "id": "870ae20d",
   "metadata": {},
   "outputs": [],
   "source": []
  }
 ],
 "metadata": {
  "kernelspec": {
   "display_name": "Python 3 (ipykernel)",
   "language": "python",
   "name": "python3"
  },
  "language_info": {
   "codemirror_mode": {
    "name": "ipython",
    "version": 3
   },
   "file_extension": ".py",
   "mimetype": "text/x-python",
   "name": "python",
   "nbconvert_exporter": "python",
   "pygments_lexer": "ipython3",
   "version": "3.9.13"
  }
 },
 "nbformat": 4,
 "nbformat_minor": 5
}
